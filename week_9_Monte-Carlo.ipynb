{
 "cells": [
  {
   "cell_type": "markdown",
   "metadata": {},
   "source": [
    "# Метод Монте-Карло в физике"
   ]
  },
  {
   "cell_type": "markdown",
   "metadata": {},
   "source": [
    "Методами Монте-Карло называют множество различных методов в совершенно разных областях от физики до экономики. Основная суть этих методов заключается в использовании случайных величин для получения различных состояний исследуемой системы. "
   ]
  },
  {
   "cell_type": "markdown",
   "metadata": {},
   "source": [
    "Одно из частых применений метода Монте-Карло в физике состоит в расчете интегралов. При этом действительно полезным и незаменимым метод становится при работе с большим количеством измерений, когда построение обычных квадратур приводит к чересчур  огромным сеткам. Например, уже в случае 10 измерений, задание обычной равномерной решетки шириной в $2^4 = 16$ узлов, приводит к общей сетке размера $2^{40} \\simeq 10^{12}$. Массив данных float такого размера будет занимать 4ТБ в памяти компьютера. Оперировать такими интегралами стандартными методами становится принципиально невозможно."
   ]
  },
  {
   "cell_type": "code",
   "execution_count": 1,
   "metadata": {},
   "outputs": [],
   "source": [
    "import numpy as np\n",
    "import matplotlib.pyplot as plt\n",
    "import scipy.special as sp\n",
    "plt.style.use('ggplot')\n",
    "%matplotlib notebook"
   ]
  },
  {
   "cell_type": "markdown",
   "metadata": {},
   "source": [
    "## Задание 1\n",
    "Вычислим объем многомерной сферы в большом количестве измерений."
   ]
  },
  {
   "cell_type": "markdown",
   "metadata": {},
   "source": [
    "### Задание 1.1 \n",
    "Напишите функцию, вычисляющую точный объем $d$-мерной сферы с помощью явного выражения. \n",
    "Объем многомерной сферы радиуса $R$ в $d$-измерениях дается формулой: \n",
    "$$\n",
    "V_d = \\frac{\\pi^{d/2}} {\\Gamma(1 + d/2)}\n",
    "$$\n",
    "где $\\Gamma(x)$ - гамма функция, значение которой можно получить из scipy.special."
   ]
  },
  {
   "cell_type": "code",
   "execution_count": 2,
   "metadata": {},
   "outputs": [],
   "source": [
    "def getSphereVolumeExact(D, R = 1.0):\n",
    "    \"\"\"\n",
    "    Функция вычисляет значение объема D-мерной сферы радиуса R по явной формуле\n",
    "\n",
    "    --------\n",
    "    Аргументы:\n",
    "    D - int, количество измерений \n",
    "    R = 1 - float, радиус сферы\n",
    "    --------\n",
    "    Функция возвращает:\n",
    "    V - float, объем сферы\n",
    "    \"\"\"\n",
    "    \n",
    "    top = np.pi**(D / 2) * R ** D\n",
    "    bot = sp.gamma(1 + D / 2)\n",
    "    res = top / bot\n",
    "    return res"
   ]
  },
  {
   "cell_type": "markdown",
   "metadata": {},
   "source": [
    "1. Проверьте результат для нескольких известных вам значений. \n",
    "2. Построите график V(D)"
   ]
  },
  {
   "cell_type": "code",
   "execution_count": 3,
   "metadata": {},
   "outputs": [
    {
     "name": "stdout",
     "output_type": "stream",
     "text": [
      "2.0\n",
      "3.141592653589793\n",
      "4.188790204786391\n"
     ]
    }
   ],
   "source": [
    "first = getSphereVolumeExact(1)\n",
    "second = getSphereVolumeExact(2)\n",
    "third = getSphereVolumeExact(3)\n",
    "print(first)\n",
    "print(second)\n",
    "print(third)"
   ]
  },
  {
   "cell_type": "code",
   "execution_count": 18,
   "metadata": {},
   "outputs": [],
   "source": [
    "d = np.arange(1, 20)\n",
    "v_d = []\n",
    "for i in range(len(d)): \n",
    "    v_d.append(getSphereVolumeExact(d[i]))\n",
    "v_d = np.array(v_d)"
   ]
  },
  {
   "cell_type": "code",
   "execution_count": 19,
   "metadata": {},
   "outputs": [
    {
     "data": {
      "text/plain": [
       "[<matplotlib.lines.Line2D at 0x1492b14a188>]"
      ]
     },
     "execution_count": 19,
     "metadata": {},
     "output_type": "execute_result"
    },
    {
     "data": {
      "image/png": "[encoded data removed]",
      "text/plain": [
       "<Figure size 432x288 with 1 Axes>"
      ]
     },
     "metadata": {
      "needs_background": "light"
     },
     "output_type": "display_data"
    }
   ],
   "source": [
    "plt.plot(d, v_d)"
   ]
  },
  {
   "cell_type": "markdown",
   "metadata": {},
   "source": [
    "### Задание 1.2\n",
    "Напишите функцию, вычисляющую объем сферы методом Монте-Карло на псевдослучайных числах (используя, например `numpy.random.rand`)."
   ]
  },
  {
   "cell_type": "markdown",
   "metadata": {},
   "source": [
    "Будем вычислять долю которую сфера занимает в положительном квандранте, а потом домножать на $2^D$. Ну и вычислять будем объем единичной сферы, а для произвольной просто по размерности  умножим на $R^D$"
   ]
  },
  {
   "cell_type": "code",
   "execution_count": 17,
   "metadata": {},
   "outputs": [],
   "source": [
    "def getSphereVolumePseudorandom(N, D, R = 1):\n",
    "    \"\"\"\n",
    "    Функция вычисляет значение объема D-мерной сферы радиуса R методом Монте-Кало на псевдослучайных числах\n",
    "\n",
    "    --------\n",
    "    Аргументы:\n",
    "    N - int, количество случайных точек\n",
    "    D - int, количество измерений \n",
    "    R = 1 - float, радиус сферы\n",
    "    --------\n",
    "    Функция возвращает:\n",
    "    V - float, объем сферы\n",
    "    \"\"\"\n",
    "    vec = np.random.rand(N, D)\n",
    "    r = np.linalg.norm(vec, axis = 1)\n",
    "    r = r <= 1\n",
    "    s = sum(r)\n",
    "    top = s * 2 ** D * R ** D\n",
    "    return top / N"
   ]
  },
  {
   "cell_type": "markdown",
   "metadata": {},
   "source": [
    "Постройте график зависимости относительной точности $\\epsilon$ которая достигается при фиксированном $N$ от размерности сферы $D$. Для относительной точности используйте выражение $\\epsilon = (V_{exact} - V_{random})/V_{exact}$."
   ]
  },
  {
   "cell_type": "code",
   "execution_count": 20,
   "metadata": {},
   "outputs": [],
   "source": [
    "N = 10000"
   ]
  },
  {
   "cell_type": "code",
   "execution_count": 24,
   "metadata": {},
   "outputs": [],
   "source": [
    "d = np.arange(1, 20)\n",
    "v_d = []\n",
    "for i in range(len(d)): \n",
    "    exact = getSphereVolumeExact(d[i])\n",
    "    rand = getSphereVolumePseudorandom(N, d[i])\n",
    "    v_d.append((exact - rand) / exact)\n",
    "v_d = np.array(v_d)"
   ]
  },
  {
   "cell_type": "code",
   "execution_count": 26,
   "metadata": {},
   "outputs": [
    {
     "data": {
      "text/plain": [
       "[<matplotlib.lines.Line2D at 0x1492c2b3f88>]"
      ]
     },
     "execution_count": 26,
     "metadata": {},
     "output_type": "execute_result"
    },
    {
     "data": {
      "image/png": "[encoded data removed]",
      "text/plain": [
       "<Figure size 432x288 with 1 Axes>"
      ]
     },
     "metadata": {
      "needs_background": "light"
     },
     "output_type": "display_data"
    }
   ],
   "source": [
    "plt.plot(d, v_d)"
   ]
  },
  {
   "cell_type": "markdown",
   "metadata": {},
   "source": [
    "### Задание 1.3\n",
    "Напишите функцию, вычисляющую объем сферы методом Монте-Карло на квазислучайной последовательности Соболя.\n",
    "\n",
    "Для установки библиотеки `sobol_seq`:\n",
    "\n",
    "\n",
    "выполните `pip install sobol_seq` в Jupyter или\n",
    "\n",
    "выполните команду `pip install sobol_seq --user` в командном окне (если вы используете Jupyter Notebook в составе Anaconda откройте Anaconda Prompt и выполните команду pip в ней, после чего перезапустите Jupyter Notebook).\n"
   ]
  },
  {
   "cell_type": "code",
   "execution_count": 31,
   "metadata": {},
   "outputs": [],
   "source": [
    "#!pip install sobol_seq <-- uncomment to install sobol_seq\n",
    "import sobol_seq"
   ]
  },
  {
   "cell_type": "markdown",
   "metadata": {},
   "source": [
    "Используйте функцию `i4_sobol_generate`. Документацию по ней можно получить выполнив следующую строчку кода:"
   ]
  },
  {
   "cell_type": "code",
   "execution_count": 12,
   "metadata": {},
   "outputs": [],
   "source": [
    "sobol_seq.i4_sobol_generate?"
   ]
  },
  {
   "cell_type": "code",
   "execution_count": 13,
   "metadata": {},
   "outputs": [],
   "source": [
    "def getSphereVolumeQuasirandom(N, D, R = 1):\n",
    "    \"\"\"\n",
    "    Функция вычисляет значение объема D-мерной сферы радиуса R методом Монте-Кало на квазислучайных числах\n",
    "\n",
    "    --------\n",
    "    Аргументы:\n",
    "    N - int, количество случайных точек\n",
    "    D - int, количество измерений \n",
    "    R = 1 - float, радиус сферы\n",
    "    --------\n",
    "    Функция возвращает:\n",
    "    V - float, объем сферы\n",
    "    \"\"\"\n",
    "    vec = sobol_seq.i4_sobol_generate(D, N)\n",
    "    r = np.linalg.norm(vec, axis = 1)\n",
    "    f = r <= 1\n",
    "    s = sum(f)\n",
    "    top = s * 2 ** D * R ** D\n",
    "    return top / N"
   ]
  },
  {
   "cell_type": "code",
   "execution_count": 14,
   "metadata": {},
   "outputs": [
    {
     "data": {
      "text/plain": [
       "array([0.5, 0.5])"
      ]
     },
     "execution_count": 14,
     "metadata": {},
     "output_type": "execute_result"
    }
   ],
   "source": [
    "sobol_seq.i4_sobol_generate(2, 10)[0, :]"
   ]
  },
  {
   "cell_type": "code",
   "execution_count": 16,
   "metadata": {},
   "outputs": [
    {
     "data": {
      "text/plain": [
       "3.142"
      ]
     },
     "execution_count": 16,
     "metadata": {},
     "output_type": "execute_result"
    }
   ],
   "source": [
    "getSphereVolumeQuasirandom(10000, 2)"
   ]
  },
  {
   "cell_type": "markdown",
   "metadata": {},
   "source": [
    "Сравните точность вычисления объема для квазислучайной и псевдослучайной последовательностей, рассчитав  $\\epsilon(D)$, при таком же значении $N$, как в предыдущем задании. Постройте обе зависимости $\\epsilon(D)$ на одном графике в логарифмической шкале по $\\epsilon$."
   ]
  },
  {
   "cell_type": "code",
   "execution_count": 17,
   "metadata": {},
   "outputs": [],
   "source": [
    "v_rand = []\n",
    "for i in range(len(d)): \n",
    "    exact = getSphereVolumeExact(d[i])\n",
    "    rand = getSphereVolumePseudorandom(N, d[i])\n",
    "    v_rand.append((exact - rand) / exact)\n",
    "    \n",
    "v_sobol = []\n",
    "for i in range(len(d)): \n",
    "    exact = getSphereVolumeExact(d[i])\n",
    "    sobol = getSphereVolumeQuasirandom(N, d[i])\n",
    "    v_sobol.append((exact - sobol) / exact)"
   ]
  },
  {
   "cell_type": "markdown",
   "metadata": {},
   "source": [
    "Сделайте вывды о работе псевдослучайной и квазислучайной последовательностях. "
   ]
  },
  {
   "cell_type": "code",
   "execution_count": 18,
   "metadata": {},
   "outputs": [
    {
     "data": {
      "application/javascript": [
       "/* Put everything inside the global mpl namespace */\n",
       "window.mpl = {};\n",
       "\n",
       "\n",
       "mpl.get_websocket_type = function() {\n",
       "    if (typeof(WebSocket) !== 'undefined') {\n",
       "        return WebSocket;\n",
       "    } else if (typeof(MozWebSocket) !== 'undefined') {\n",
       "        return MozWebSocket;\n",
       "    } else {\n",
       "        alert('Your browser does not have WebSocket support. ' +\n",
       "              'Please try Chrome, Safari or Firefox ≥ 6. ' +\n",
       "              'Firefox 4 and 5 are also supported but you ' +\n",
       "              'have to enable WebSockets in about:config.');\n",
       "    };\n",
       "}\n",
       "\n",
       "mpl.figure = function(figure_id, websocket, ondownload, parent_element) {\n",
       "    this.id = figure_id;\n",
       "\n",
       "    this.ws = websocket;\n",
       "\n",
       "    this.supports_binary = (this.ws.binaryType != undefined);\n",
       "\n",
       "    if (!this.supports_binary) {\n",
       "        var warnings = document.getElementById(\"mpl-warnings\");\n",
       "        if (warnings) {\n",
       "            warnings.style.display = 'block';\n",
       "            warnings.textContent = (\n",
       "                \"This browser does not support binary websocket messages. \" +\n",
       "                    \"Performance may be slow.\");\n",
       "        }\n",
       "    }\n",
       "\n",
       "    this.imageObj = new Image();\n",
       "\n",
       "    this.context = undefined;\n",
       "    this.message = undefined;\n",
       "    this.canvas = undefined;\n",
       "    this.rubberband_canvas = undefined;\n",
       "    this.rubberband_context = undefined;\n",
       "    this.format_dropdown = undefined;\n",
       "\n",
       "    this.image_mode = 'full';\n",
       "\n",
       "    this.root = $('<div/>');\n",
       "    this._root_extra_style(this.root)\n",
       "    this.root.attr('style', 'display: inline-block');\n",
       "\n",
       "    $(parent_element).append(this.root);\n",
       "\n",
       "    this._init_header(this);\n",
       "    this._init_canvas(this);\n",
       "    this._init_toolbar(this);\n",
       "\n",
       "    var fig = this;\n",
       "\n",
       "    this.waiting = false;\n",
       "\n",
       "    this.ws.onopen =  function () {\n",
       "            fig.send_message(\"supports_binary\", {value: fig.supports_binary});\n",
       "            fig.send_message(\"send_image_mode\", {});\n",
       "            if (mpl.ratio != 1) {\n",
       "                fig.send_message(\"set_dpi_ratio\", {'dpi_ratio': mpl.ratio});\n",
       "            }\n",
       "            fig.send_message(\"refresh\", {});\n",
       "        }\n",
       "\n",
       "    this.imageObj.onload = function() {\n",
       "            if (fig.image_mode == 'full') {\n",
       "                // Full images could contain transparency (where diff images\n",
       "                // almost always do), so we need to clear the canvas so that\n",
       "                // there is no ghosting.\n",
       "                fig.context.clearRect(0, 0, fig.canvas.width, fig.canvas.height);\n",
       "            }\n",
       "            fig.context.drawImage(fig.imageObj, 0, 0);\n",
       "        };\n",
       "\n",
       "    this.imageObj.onunload = function() {\n",
       "        fig.ws.close();\n",
       "    }\n",
       "\n",
       "    this.ws.onmessage = this._make_on_message_function(this);\n",
       "\n",
       "    this.ondownload = ondownload;\n",
       "}\n",
       "\n",
       "mpl.figure.prototype._init_header = function() {\n",
       "    var titlebar = $(\n",
       "        '<div class=\"ui-dialog-titlebar ui-widget-header ui-corner-all ' +\n",
       "        'ui-helper-clearfix\"/>');\n",
       "    var titletext = $(\n",
       "        '<div class=\"ui-dialog-title\" style=\"width: 100%; ' +\n",
       "        'text-align: center; padding: 3px;\"/>');\n",
       "    titlebar.append(titletext)\n",
       "    this.root.append(titlebar);\n",
       "    this.header = titletext[0];\n",
       "}\n",
       "\n",
       "\n",
       "\n",
       "mpl.figure.prototype._canvas_extra_style = function(canvas_div) {\n",
       "\n",
       "}\n",
       "\n",
       "\n",
       "mpl.figure.prototype._root_extra_style = function(canvas_div) {\n",
       "\n",
       "}\n",
       "\n",
       "mpl.figure.prototype._init_canvas = function() {\n",
       "    var fig = this;\n",
       "\n",
       "    var canvas_div = $('<div/>');\n",
       "\n",
       "    canvas_div.attr('style', 'position: relative; clear: both; outline: 0');\n",
       "\n",
       "    function canvas_keyboard_event(event) {\n",
       "        return fig.key_event(event, event['data']);\n",
       "    }\n",
       "\n",
       "    canvas_div.keydown('key_press', canvas_keyboard_event);\n",
       "    canvas_div.keyup('key_release', canvas_keyboard_event);\n",
       "    this.canvas_div = canvas_div\n",
       "    this._canvas_extra_style(canvas_div)\n",
       "    this.root.append(canvas_div);\n",
       "\n",
       "    var canvas = $('<canvas/>');\n",
       "    canvas.addClass('mpl-canvas');\n",
       "    canvas.attr('style', \"left: 0; top: 0; z-index: 0; outline: 0\")\n",
       "\n",
       "    this.canvas = canvas[0];\n",
       "    this.context = canvas[0].getContext(\"2d\");\n",
       "\n",
       "    var backingStore = this.context.backingStorePixelRatio ||\n",
       "\tthis.context.webkitBackingStorePixelRatio ||\n",
       "\tthis.context.mozBackingStorePixelRatio ||\n",
       "\tthis.context.msBackingStorePixelRatio ||\n",
       "\tthis.context.oBackingStorePixelRatio ||\n",
       "\tthis.context.backingStorePixelRatio || 1;\n",
       "\n",
       "    mpl.ratio = (window.devicePixelRatio || 1) / backingStore;\n",
       "\n",
       "    var rubberband = $('<canvas/>');\n",
       "    rubberband.attr('style', \"position: absolute; left: 0; top: 0; z-index: 1;\")\n",
       "\n",
       "    var pass_mouse_events = true;\n",
       "\n",
       "    canvas_div.resizable({\n",
       "        start: function(event, ui) {\n",
       "            pass_mouse_events = false;\n",
       "        },\n",
       "        resize: function(event, ui) {\n",
       "            fig.request_resize(ui.size.width, ui.size.height);\n",
       "        },\n",
       "        stop: function(event, ui) {\n",
       "            pass_mouse_events = true;\n",
       "            fig.request_resize(ui.size.width, ui.size.height);\n",
       "        },\n",
       "    });\n",
       "\n",
       "    function mouse_event_fn(event) {\n",
       "        if (pass_mouse_events)\n",
       "            return fig.mouse_event(event, event['data']);\n",
       "    }\n",
       "\n",
       "    rubberband.mousedown('button_press', mouse_event_fn);\n",
       "    rubberband.mouseup('button_release', mouse_event_fn);\n",
       "    // Throttle sequential mouse events to 1 every 20ms.\n",
       "    rubberband.mousemove('motion_notify', mouse_event_fn);\n",
       "\n",
       "    rubberband.mouseenter('figure_enter', mouse_event_fn);\n",
       "    rubberband.mouseleave('figure_leave', mouse_event_fn);\n",
       "\n",
       "    canvas_div.on(\"wheel\", function (event) {\n",
       "        event = event.originalEvent;\n",
       "        event['data'] = 'scroll'\n",
       "        if (event.deltaY < 0) {\n",
       "            event.step = 1;\n",
       "        } else {\n",
       "            event.step = -1;\n",
       "        }\n",
       "        mouse_event_fn(event);\n",
       "    });\n",
       "\n",
       "    canvas_div.append(canvas);\n",
       "    canvas_div.append(rubberband);\n",
       "\n",
       "    this.rubberband = rubberband;\n",
       "    this.rubberband_canvas = rubberband[0];\n",
       "    this.rubberband_context = rubberband[0].getContext(\"2d\");\n",
       "    this.rubberband_context.strokeStyle = \"#000000\";\n",
       "\n",
       "    this._resize_canvas = function(width, height) {\n",
       "        // Keep the size of the canvas, canvas container, and rubber band\n",
       "        // canvas in synch.\n",
       "        canvas_div.css('width', width)\n",
       "        canvas_div.css('height', height)\n",
       "\n",
       "        canvas.attr('width', width * mpl.ratio);\n",
       "        canvas.attr('height', height * mpl.ratio);\n",
       "        canvas.attr('style', 'width: ' + width + 'px; height: ' + height + 'px;');\n",
       "\n",
       "        rubberband.attr('width', width);\n",
       "        rubberband.attr('height', height);\n",
       "    }\n",
       "\n",
       "    // Set the figure to an initial 600x600px, this will subsequently be updated\n",
       "    // upon first draw.\n",
       "    this._resize_canvas(600, 600);\n",
       "\n",
       "    // Disable right mouse context menu.\n",
       "    $(this.rubberband_canvas).bind(\"contextmenu\",function(e){\n",
       "        return false;\n",
       "    });\n",
       "\n",
       "    function set_focus () {\n",
       "        canvas.focus();\n",
       "        canvas_div.focus();\n",
       "    }\n",
       "\n",
       "    window.setTimeout(set_focus, 100);\n",
       "}\n",
       "\n",
       "mpl.figure.prototype._init_toolbar = function() {\n",
       "    var fig = this;\n",
       "\n",
       "    var nav_element = $('<div/>');\n",
       "    nav_element.attr('style', 'width: 100%');\n",
       "    this.root.append(nav_element);\n",
       "\n",
       "    // Define a callback function for later on.\n",
       "    function toolbar_event(event) {\n",
       "        return fig.toolbar_button_onclick(event['data']);\n",
       "    }\n",
       "    function toolbar_mouse_event(event) {\n",
       "        return fig.toolbar_button_onmouseover(event['data']);\n",
       "    }\n",
       "\n",
       "    for(var toolbar_ind in mpl.toolbar_items) {\n",
       "        var name = mpl.toolbar_items[toolbar_ind][0];\n",
       "        var tooltip = mpl.toolbar_items[toolbar_ind][1];\n",
       "        var image = mpl.toolbar_items[toolbar_ind][2];\n",
       "        var method_name = mpl.toolbar_items[toolbar_ind][3];\n",
       "\n",
       "        if (!name) {\n",
       "            // put a spacer in here.\n",
       "            continue;\n",
       "        }\n",
       "        var button = $('<button/>');\n",
       "        button.addClass('ui-button ui-widget ui-state-default ui-corner-all ' +\n",
       "                        'ui-button-icon-only');\n",
       "        button.attr('role', 'button');\n",
       "        button.attr('aria-disabled', 'false');\n",
       "        button.click(method_name, toolbar_event);\n",
       "        button.mouseover(tooltip, toolbar_mouse_event);\n",
       "\n",
       "        var icon_img = $('<span/>');\n",
       "        icon_img.addClass('ui-button-icon-primary ui-icon');\n",
       "        icon_img.addClass(image);\n",
       "        icon_img.addClass('ui-corner-all');\n",
       "\n",
       "        var tooltip_span = $('<span/>');\n",
       "        tooltip_span.addClass('ui-button-text');\n",
       "        tooltip_span.html(tooltip);\n",
       "\n",
       "        button.append(icon_img);\n",
       "        button.append(tooltip_span);\n",
       "\n",
       "        nav_element.append(button);\n",
       "    }\n",
       "\n",
       "    var fmt_picker_span = $('<span/>');\n",
       "\n",
       "    var fmt_picker = $('<select/>');\n",
       "    fmt_picker.addClass('mpl-toolbar-option ui-widget ui-widget-content');\n",
       "    fmt_picker_span.append(fmt_picker);\n",
       "    nav_element.append(fmt_picker_span);\n",
       "    this.format_dropdown = fmt_picker[0];\n",
       "\n",
       "    for (var ind in mpl.extensions) {\n",
       "        var fmt = mpl.extensions[ind];\n",
       "        var option = $(\n",
       "            '<option/>', {selected: fmt === mpl.default_extension}).html(fmt);\n",
       "        fmt_picker.append(option);\n",
       "    }\n",
       "\n",
       "    // Add hover states to the ui-buttons\n",
       "    $( \".ui-button\" ).hover(\n",
       "        function() { $(this).addClass(\"ui-state-hover\");},\n",
       "        function() { $(this).removeClass(\"ui-state-hover\");}\n",
       "    );\n",
       "\n",
       "    var status_bar = $('<span class=\"mpl-message\"/>');\n",
       "    nav_element.append(status_bar);\n",
       "    this.message = status_bar[0];\n",
       "}\n",
       "\n",
       "mpl.figure.prototype.request_resize = function(x_pixels, y_pixels) {\n",
       "    // Request matplotlib to resize the figure. Matplotlib will then trigger a resize in the client,\n",
       "    // which will in turn request a refresh of the image.\n",
       "    this.send_message('resize', {'width': x_pixels, 'height': y_pixels});\n",
       "}\n",
       "\n",
       "mpl.figure.prototype.send_message = function(type, properties) {\n",
       "    properties['type'] = type;\n",
       "    properties['figure_id'] = this.id;\n",
       "    this.ws.send(JSON.stringify(properties));\n",
       "}\n",
       "\n",
       "mpl.figure.prototype.send_draw_message = function() {\n",
       "    if (!this.waiting) {\n",
       "        this.waiting = true;\n",
       "        this.ws.send(JSON.stringify({type: \"draw\", figure_id: this.id}));\n",
       "    }\n",
       "}\n",
       "\n",
       "\n",
       "mpl.figure.prototype.handle_save = function(fig, msg) {\n",
       "    var format_dropdown = fig.format_dropdown;\n",
       "    var format = format_dropdown.options[format_dropdown.selectedIndex].value;\n",
       "    fig.ondownload(fig, format);\n",
       "}\n",
       "\n",
       "\n",
       "mpl.figure.prototype.handle_resize = function(fig, msg) {\n",
       "    var size = msg['size'];\n",
       "    if (size[0] != fig.canvas.width || size[1] != fig.canvas.height) {\n",
       "        fig._resize_canvas(size[0], size[1]);\n",
       "        fig.send_message(\"refresh\", {});\n",
       "    };\n",
       "}\n",
       "\n",
       "mpl.figure.prototype.handle_rubberband = function(fig, msg) {\n",
       "    var x0 = msg['x0'] / mpl.ratio;\n",
       "    var y0 = (fig.canvas.height - msg['y0']) / mpl.ratio;\n",
       "    var x1 = msg['x1'] / mpl.ratio;\n",
       "    var y1 = (fig.canvas.height - msg['y1']) / mpl.ratio;\n",
       "    x0 = Math.floor(x0) + 0.5;\n",
       "    y0 = Math.floor(y0) + 0.5;\n",
       "    x1 = Math.floor(x1) + 0.5;\n",
       "    y1 = Math.floor(y1) + 0.5;\n",
       "    var min_x = Math.min(x0, x1);\n",
       "    var min_y = Math.min(y0, y1);\n",
       "    var width = Math.abs(x1 - x0);\n",
       "    var height = Math.abs(y1 - y0);\n",
       "\n",
       "    fig.rubberband_context.clearRect(\n",
       "        0, 0, fig.canvas.width / mpl.ratio, fig.canvas.height / mpl.ratio);\n",
       "\n",
       "    fig.rubberband_context.strokeRect(min_x, min_y, width, height);\n",
       "}\n",
       "\n",
       "mpl.figure.prototype.handle_figure_label = function(fig, msg) {\n",
       "    // Updates the figure title.\n",
       "    fig.header.textContent = msg['label'];\n",
       "}\n",
       "\n",
       "mpl.figure.prototype.handle_cursor = function(fig, msg) {\n",
       "    var cursor = msg['cursor'];\n",
       "    switch(cursor)\n",
       "    {\n",
       "    case 0:\n",
       "        cursor = 'pointer';\n",
       "        break;\n",
       "    case 1:\n",
       "        cursor = 'default';\n",
       "        break;\n",
       "    case 2:\n",
       "        cursor = 'crosshair';\n",
       "        break;\n",
       "    case 3:\n",
       "        cursor = 'move';\n",
       "        break;\n",
       "    }\n",
       "    fig.rubberband_canvas.style.cursor = cursor;\n",
       "}\n",
       "\n",
       "mpl.figure.prototype.handle_message = function(fig, msg) {\n",
       "    fig.message.textContent = msg['message'];\n",
       "}\n",
       "\n",
       "mpl.figure.prototype.handle_draw = function(fig, msg) {\n",
       "    // Request the server to send over a new figure.\n",
       "    fig.send_draw_message();\n",
       "}\n",
       "\n",
       "mpl.figure.prototype.handle_image_mode = function(fig, msg) {\n",
       "    fig.image_mode = msg['mode'];\n",
       "}\n",
       "\n",
       "mpl.figure.prototype.updated_canvas_event = function() {\n",
       "    // Called whenever the canvas gets updated.\n",
       "    this.send_message(\"ack\", {});\n",
       "}\n",
       "\n",
       "// A function to construct a web socket function for onmessage handling.\n",
       "// Called in the figure constructor.\n",
       "mpl.figure.prototype._make_on_message_function = function(fig) {\n",
       "    return function socket_on_message(evt) {\n",
       "        if (evt.data instanceof Blob) {\n",
       "            /* FIXME: We get \"Resource interpreted as Image but\n",
       "             * transferred with MIME type text/plain:\" errors on\n",
       "             * Chrome.  But how to set the MIME type?  It doesn't seem\n",
       "             * to be part of the websocket stream */\n",
       "            evt.data.type = \"image/png\";\n",
       "\n",
       "            /* Free the memory for the previous frames */\n",
       "            if (fig.imageObj.src) {\n",
       "                (window.URL || window.webkitURL).revokeObjectURL(\n",
       "                    fig.imageObj.src);\n",
       "            }\n",
       "\n",
       "            fig.imageObj.src = (window.URL || window.webkitURL).createObjectURL(\n",
       "                evt.data);\n",
       "            fig.updated_canvas_event();\n",
       "            fig.waiting = false;\n",
       "            return;\n",
       "        }\n",
       "        else if (typeof evt.data === 'string' && evt.data.slice(0, 21) == \"data:image/png;base64\") {\n",
       "            fig.imageObj.src = evt.data;\n",
       "            fig.updated_canvas_event();\n",
       "            fig.waiting = false;\n",
       "            return;\n",
       "        }\n",
       "\n",
       "        var msg = JSON.parse(evt.data);\n",
       "        var msg_type = msg['type'];\n",
       "\n",
       "        // Call the  \"handle_{type}\" callback, which takes\n",
       "        // the figure and JSON message as its only arguments.\n",
       "        try {\n",
       "            var callback = fig[\"handle_\" + msg_type];\n",
       "        } catch (e) {\n",
       "            console.log(\"No handler for the '\" + msg_type + \"' message type: \", msg);\n",
       "            return;\n",
       "        }\n",
       "\n",
       "        if (callback) {\n",
       "            try {\n",
       "                // console.log(\"Handling '\" + msg_type + \"' message: \", msg);\n",
       "                callback(fig, msg);\n",
       "            } catch (e) {\n",
       "                console.log(\"Exception inside the 'handler_\" + msg_type + \"' callback:\", e, e.stack, msg);\n",
       "            }\n",
       "        }\n",
       "    };\n",
       "}\n",
       "\n",
       "// from http://stackoverflow.com/questions/1114465/getting-mouse-location-in-canvas\n",
       "mpl.findpos = function(e) {\n",
       "    //this section is from http://www.quirksmode.org/js/events_properties.html\n",
       "    var targ;\n",
       "    if (!e)\n",
       "        e = window.event;\n",
       "    if (e.target)\n",
       "        targ = e.target;\n",
       "    else if (e.srcElement)\n",
       "        targ = e.srcElement;\n",
       "    if (targ.nodeType == 3) // defeat Safari bug\n",
       "        targ = targ.parentNode;\n",
       "\n",
       "    // jQuery normalizes the pageX and pageY\n",
       "    // pageX,Y are the mouse positions relative to the document\n",
       "    // offset() returns the position of the element relative to the document\n",
       "    var x = e.pageX - $(targ).offset().left;\n",
       "    var y = e.pageY - $(targ).offset().top;\n",
       "\n",
       "    return {\"x\": x, \"y\": y};\n",
       "};\n",
       "\n",
       "/*\n",
       " * return a copy of an object with only non-object keys\n",
       " * we need this to avoid circular references\n",
       " * http://stackoverflow.com/a/24161582/3208463\n",
       " */\n",
       "function simpleKeys (original) {\n",
       "  return Object.keys(original).reduce(function (obj, key) {\n",
       "    if (typeof original[key] !== 'object')\n",
       "        obj[key] = original[key]\n",
       "    return obj;\n",
       "  }, {});\n",
       "}\n",
       "\n",
       "mpl.figure.prototype.mouse_event = function(event, name) {\n",
       "    var canvas_pos = mpl.findpos(event)\n",
       "\n",
       "    if (name === 'button_press')\n",
       "    {\n",
       "        this.canvas.focus();\n",
       "        this.canvas_div.focus();\n",
       "    }\n",
       "\n",
       "    var x = canvas_pos.x * mpl.ratio;\n",
       "    var y = canvas_pos.y * mpl.ratio;\n",
       "\n",
       "    this.send_message(name, {x: x, y: y, button: event.button,\n",
       "                             step: event.step,\n",
       "                             guiEvent: simpleKeys(event)});\n",
       "\n",
       "    /* This prevents the web browser from automatically changing to\n",
       "     * the text insertion cursor when the button is pressed.  We want\n",
       "     * to control all of the cursor setting manually through the\n",
       "     * 'cursor' event from matplotlib */\n",
       "    event.preventDefault();\n",
       "    return false;\n",
       "}\n",
       "\n",
       "mpl.figure.prototype._key_event_extra = function(event, name) {\n",
       "    // Handle any extra behaviour associated with a key event\n",
       "}\n",
       "\n",
       "mpl.figure.prototype.key_event = function(event, name) {\n",
       "\n",
       "    // Prevent repeat events\n",
       "    if (name == 'key_press')\n",
       "    {\n",
       "        if (event.which === this._key)\n",
       "            return;\n",
       "        else\n",
       "            this._key = event.which;\n",
       "    }\n",
       "    if (name == 'key_release')\n",
       "        this._key = null;\n",
       "\n",
       "    var value = '';\n",
       "    if (event.ctrlKey && event.which != 17)\n",
       "        value += \"ctrl+\";\n",
       "    if (event.altKey && event.which != 18)\n",
       "        value += \"alt+\";\n",
       "    if (event.shiftKey && event.which != 16)\n",
       "        value += \"shift+\";\n",
       "\n",
       "    value += 'k';\n",
       "    value += event.which.toString();\n",
       "\n",
       "    this._key_event_extra(event, name);\n",
       "\n",
       "    this.send_message(name, {key: value,\n",
       "                             guiEvent: simpleKeys(event)});\n",
       "    return false;\n",
       "}\n",
       "\n",
       "mpl.figure.prototype.toolbar_button_onclick = function(name) {\n",
       "    if (name == 'download') {\n",
       "        this.handle_save(this, null);\n",
       "    } else {\n",
       "        this.send_message(\"toolbar_button\", {name: name});\n",
       "    }\n",
       "};\n",
       "\n",
       "mpl.figure.prototype.toolbar_button_onmouseover = function(tooltip) {\n",
       "    this.message.textContent = tooltip;\n",
       "};\n",
       "mpl.toolbar_items = [[\"Home\", \"Reset original view\", \"fa fa-home icon-home\", \"home\"], [\"Back\", \"Back to previous view\", \"fa fa-arrow-left icon-arrow-left\", \"back\"], [\"Forward\", \"Forward to next view\", \"fa fa-arrow-right icon-arrow-right\", \"forward\"], [\"\", \"\", \"\", \"\"], [\"Pan\", \"Pan axes with left mouse, zoom with right\", \"fa fa-arrows icon-move\", \"pan\"], [\"Zoom\", \"Zoom to rectangle\", \"fa fa-square-o icon-check-empty\", \"zoom\"], [\"\", \"\", \"\", \"\"], [\"Download\", \"Download plot\", \"fa fa-floppy-o icon-save\", \"download\"]];\n",
       "\n",
       "mpl.extensions = [\"eps\", \"jpeg\", \"pdf\", \"png\", \"ps\", \"raw\", \"svg\", \"tif\"];\n",
       "\n",
       "mpl.default_extension = \"png\";var comm_websocket_adapter = function(comm) {\n",
       "    // Create a \"websocket\"-like object which calls the given IPython comm\n",
       "    // object with the appropriate methods. Currently this is a non binary\n",
       "    // socket, so there is still some room for performance tuning.\n",
       "    var ws = {};\n",
       "\n",
       "    ws.close = function() {\n",
       "        comm.close()\n",
       "    };\n",
       "    ws.send = function(m) {\n",
       "        //console.log('sending', m);\n",
       "        comm.send(m);\n",
       "    };\n",
       "    // Register the callback with on_msg.\n",
       "    comm.on_msg(function(msg) {\n",
       "        //console.log('receiving', msg['content']['data'], msg);\n",
       "        // Pass the mpl event to the overridden (by mpl) onmessage function.\n",
       "        ws.onmessage(msg['content']['data'])\n",
       "    });\n",
       "    return ws;\n",
       "}\n",
       "\n",
       "mpl.mpl_figure_comm = function(comm, msg) {\n",
       "    // This is the function which gets called when the mpl process\n",
       "    // starts-up an IPython Comm through the \"matplotlib\" channel.\n",
       "\n",
       "    var id = msg.content.data.id;\n",
       "    // Get hold of the div created by the display call when the Comm\n",
       "    // socket was opened in Python.\n",
       "    var element = $(\"#\" + id);\n",
       "    var ws_proxy = comm_websocket_adapter(comm)\n",
       "\n",
       "    function ondownload(figure, format) {\n",
       "        window.open(figure.imageObj.src);\n",
       "    }\n",
       "\n",
       "    var fig = new mpl.figure(id, ws_proxy,\n",
       "                           ondownload,\n",
       "                           element.get(0));\n",
       "\n",
       "    // Call onopen now - mpl needs it, as it is assuming we've passed it a real\n",
       "    // web socket which is closed, not our websocket->open comm proxy.\n",
       "    ws_proxy.onopen();\n",
       "\n",
       "    fig.parent_element = element.get(0);\n",
       "    fig.cell_info = mpl.find_output_cell(\"<div id='\" + id + \"'></div>\");\n",
       "    if (!fig.cell_info) {\n",
       "        console.error(\"Failed to find cell for figure\", id, fig);\n",
       "        return;\n",
       "    }\n",
       "\n",
       "    var output_index = fig.cell_info[2]\n",
       "    var cell = fig.cell_info[0];\n",
       "\n",
       "};\n",
       "\n",
       "mpl.figure.prototype.handle_close = function(fig, msg) {\n",
       "    var width = fig.canvas.width/mpl.ratio\n",
       "    fig.root.unbind('remove')\n",
       "\n",
       "    // Update the output cell to use the data from the current canvas.\n",
       "    fig.push_to_output();\n",
       "    var dataURL = fig.canvas.toDataURL();\n",
       "    // Re-enable the keyboard manager in IPython - without this line, in FF,\n",
       "    // the notebook keyboard shortcuts fail.\n",
       "    IPython.keyboard_manager.enable()\n",
       "    $(fig.parent_element).html('<img src=\"' + dataURL + '\" width=\"' + width + '\">');\n",
       "    fig.close_ws(fig, msg);\n",
       "}\n",
       "\n",
       "mpl.figure.prototype.close_ws = function(fig, msg){\n",
       "    fig.send_message('closing', msg);\n",
       "    // fig.ws.close()\n",
       "}\n",
       "\n",
       "mpl.figure.prototype.push_to_output = function(remove_interactive) {\n",
       "    // Turn the data on the canvas into data in the output cell.\n",
       "    var width = this.canvas.width/mpl.ratio\n",
       "    var dataURL = this.canvas.toDataURL();\n",
       "    this.cell_info[1]['text/html'] = '<img src=\"' + dataURL + '\" width=\"' + width + '\">';\n",
       "}\n",
       "\n",
       "mpl.figure.prototype.updated_canvas_event = function() {\n",
       "    // Tell IPython that the notebook contents must change.\n",
       "    IPython.notebook.set_dirty(true);\n",
       "    this.send_message(\"ack\", {});\n",
       "    var fig = this;\n",
       "    // Wait a second, then push the new image to the DOM so\n",
       "    // that it is saved nicely (might be nice to debounce this).\n",
       "    setTimeout(function () { fig.push_to_output() }, 1000);\n",
       "}\n",
       "\n",
       "mpl.figure.prototype._init_toolbar = function() {\n",
       "    var fig = this;\n",
       "\n",
       "    var nav_element = $('<div/>');\n",
       "    nav_element.attr('style', 'width: 100%');\n",
       "    this.root.append(nav_element);\n",
       "\n",
       "    // Define a callback function for later on.\n",
       "    function toolbar_event(event) {\n",
       "        return fig.toolbar_button_onclick(event['data']);\n",
       "    }\n",
       "    function toolbar_mouse_event(event) {\n",
       "        return fig.toolbar_button_onmouseover(event['data']);\n",
       "    }\n",
       "\n",
       "    for(var toolbar_ind in mpl.toolbar_items){\n",
       "        var name = mpl.toolbar_items[toolbar_ind][0];\n",
       "        var tooltip = mpl.toolbar_items[toolbar_ind][1];\n",
       "        var image = mpl.toolbar_items[toolbar_ind][2];\n",
       "        var method_name = mpl.toolbar_items[toolbar_ind][3];\n",
       "\n",
       "        if (!name) { continue; };\n",
       "\n",
       "        var button = $('<button class=\"btn btn-default\" href=\"#\" title=\"' + name + '\"><i class=\"fa ' + image + ' fa-lg\"></i></button>');\n",
       "        button.click(method_name, toolbar_event);\n",
       "        button.mouseover(tooltip, toolbar_mouse_event);\n",
       "        nav_element.append(button);\n",
       "    }\n",
       "\n",
       "    // Add the status bar.\n",
       "    var status_bar = $('<span class=\"mpl-message\" style=\"text-align:right; float: right;\"/>');\n",
       "    nav_element.append(status_bar);\n",
       "    this.message = status_bar[0];\n",
       "\n",
       "    // Add the close button to the window.\n",
       "    var buttongrp = $('<div class=\"btn-group inline pull-right\"></div>');\n",
       "    var button = $('<button class=\"btn btn-mini btn-primary\" href=\"#\" title=\"Stop Interaction\"><i class=\"fa fa-power-off icon-remove icon-large\"></i></button>');\n",
       "    button.click(function (evt) { fig.handle_close(fig, {}); } );\n",
       "    button.mouseover('Stop Interaction', toolbar_mouse_event);\n",
       "    buttongrp.append(button);\n",
       "    var titlebar = this.root.find($('.ui-dialog-titlebar'));\n",
       "    titlebar.prepend(buttongrp);\n",
       "}\n",
       "\n",
       "mpl.figure.prototype._root_extra_style = function(el){\n",
       "    var fig = this\n",
       "    el.on(\"remove\", function(){\n",
       "\tfig.close_ws(fig, {});\n",
       "    });\n",
       "}\n",
       "\n",
       "mpl.figure.prototype._canvas_extra_style = function(el){\n",
       "    // this is important to make the div 'focusable\n",
       "    el.attr('tabindex', 0)\n",
       "    // reach out to IPython and tell the keyboard manager to turn it's self\n",
       "    // off when our div gets focus\n",
       "\n",
       "    // location in version 3\n",
       "    if (IPython.notebook.keyboard_manager) {\n",
       "        IPython.notebook.keyboard_manager.register_events(el);\n",
       "    }\n",
       "    else {\n",
       "        // location in version 2\n",
       "        IPython.keyboard_manager.register_events(el);\n",
       "    }\n",
       "\n",
       "}\n",
       "\n",
       "mpl.figure.prototype._key_event_extra = function(event, name) {\n",
       "    var manager = IPython.notebook.keyboard_manager;\n",
       "    if (!manager)\n",
       "        manager = IPython.keyboard_manager;\n",
       "\n",
       "    // Check for shift+enter\n",
       "    if (event.shiftKey && event.which == 13) {\n",
       "        this.canvas_div.blur();\n",
       "        // select the cell after this one\n",
       "        var index = IPython.notebook.find_cell_index(this.cell_info[0]);\n",
       "        IPython.notebook.select(index + 1);\n",
       "    }\n",
       "}\n",
       "\n",
       "mpl.figure.prototype.handle_save = function(fig, msg) {\n",
       "    fig.ondownload(fig, null);\n",
       "}\n",
       "\n",
       "\n",
       "mpl.find_output_cell = function(html_output) {\n",
       "    // Return the cell and output element which can be found *uniquely* in the notebook.\n",
       "    // Note - this is a bit hacky, but it is done because the \"notebook_saving.Notebook\"\n",
       "    // IPython event is triggered only after the cells have been serialised, which for\n",
       "    // our purposes (turning an active figure into a static one), is too late.\n",
       "    var cells = IPython.notebook.get_cells();\n",
       "    var ncells = cells.length;\n",
       "    for (var i=0; i<ncells; i++) {\n",
       "        var cell = cells[i];\n",
       "        if (cell.cell_type === 'code'){\n",
       "            for (var j=0; j<cell.output_area.outputs.length; j++) {\n",
       "                var data = cell.output_area.outputs[j];\n",
       "                if (data.data) {\n",
       "                    // IPython >= 3 moved mimebundle to data attribute of output\n",
       "                    data = data.data;\n",
       "                }\n",
       "                if (data['text/html'] == html_output) {\n",
       "                    return [cell, data, j];\n",
       "                }\n",
       "            }\n",
       "        }\n",
       "    }\n",
       "}\n",
       "\n",
       "// Register the function which deals with the matplotlib target/channel.\n",
       "// The kernel may be null if the page has been refreshed.\n",
       "if (IPython.notebook.kernel != null) {\n",
       "    IPython.notebook.kernel.comm_manager.register_target('matplotlib', mpl.mpl_figure_comm);\n",
       "}\n"
      ],
      "text/plain": [
       "<IPython.core.display.Javascript object>"
      ]
     },
     "metadata": {},
     "output_type": "display_data"
    },
    {
     "data": {
      "text/html": [
       "<img src=\"data:image/png;base64,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\" width=\"640\">"
      ],
      "text/plain": [
       "<IPython.core.display.HTML object>"
      ]
     },
     "metadata": {},
     "output_type": "display_data"
    },
    {
     "data": {
      "text/plain": [
       "<matplotlib.legend.Legend at 0x7f754677d810>"
      ]
     },
     "execution_count": 18,
     "metadata": {},
     "output_type": "execute_result"
    }
   ],
   "source": [
    "plt.plot(num, v_rand, '.', 'r', label = 'random')\n",
    "plt.plot(num, v_sobol, '.', 'b', label = 'sobol')\n",
    "plt.yscale('log')\n",
    "plt.legend()"
   ]
  },
  {
   "cell_type": "markdown",
   "metadata": {},
   "source": [
    "Точнее результат получается при работе с последовательностями Соболева."
   ]
  },
  {
   "cell_type": "markdown",
   "metadata": {},
   "source": [
    "## Задание 2\n",
    "\n",
    "Рассмотрим решетку $n\\times n$, в которой каждой ячейке соответствует спин $\\sigma_i$ равный $+1$ или $-1$. При этом между соседними ячейками существует энергия взаимодействия\n",
    "$$\n",
    "E_i = -J \\sigma_i \\sigma_j\n",
    "$$\n",
    "Тогда энергия каждой ячейки \n",
    "$$\n",
    "E_i = -J \\sigma_i \\sum_j \\sigma_j\n",
    "$$\n",
    "где суммирование подразумевается только по соседним с $i$-ой ячейкой.\n",
    "\n",
    "При нулевой температуре энергитически более выгодным состоянием является состояние, когда все спины одинаково ориентированы. Однако при ненулевой температуре вероятность перехода в более возбужденное состояние пропорциональна $\\sim \\exp(-\\Delta E/ k T)$.\n",
    "\n",
    "Явное численное моделирование такой системы (модели Изинга) является проблематичным, поскольку количество возможных состояний системы $2^N$, где $N$ - общее число узлов, и уже для двумерной сетки $16\\times 16$ это число становится астрономически большим. "
   ]
  },
  {
   "cell_type": "markdown",
   "metadata": {},
   "source": [
    "На помощь приходят методы Монте-Карло. Одна из простейших его реализаций (алгоритм Метрополиса — Гастингса):\n",
    "1. Задаем случайное начальное состояние\n",
    "2. Выбираем случайную ячейку\n",
    "3. Переворачиваем её спин и считаем изменение энергии $\\delta E$ данной ячейки.\n",
    "4. Если изменение энергии отрицательное, оставляем спин перевернутым\n",
    "5. Если изменение энергии положительное, оставляем спин перевернутым с вероятностью $\\exp(-\\delta E/kT)$\n",
    "6. Повторяем пункты 2-5 нужное количество раз\n",
    "\n",
    "Спустя достаточно большое количество повторений устанавливается равновесное состояние. "
   ]
  },
  {
   "cell_type": "markdown",
   "metadata": {},
   "source": [
    "Реализуем данный алгоритм: \n",
    "1. Задайте начальное случайное расраспределение в виде матрицы из $+1$ и $-1$ размерности $N\\times N$:"
   ]
  },
  {
   "cell_type": "code",
   "execution_count": 69,
   "metadata": {},
   "outputs": [],
   "source": [
    "def getInitialState(N):\n",
    "    '''\n",
    "    Функция задает случайное начальное состояние\n",
    "    ---------\n",
    "    Аргументы:\n",
    "    N - int, линейный размер решетки \n",
    "    --------\n",
    "    Функция возвращает:\n",
    "    state - numpy ndarray of ints, массив состояния системы размера NxN\n",
    "    '''\n",
    "    arr = (np.random.randint(2, size = (N, N)) - 0.5) * 2\n",
    "\n",
    "    return arr.astype(int)"
   ]
  },
  {
   "cell_type": "markdown",
   "metadata": {},
   "source": [
    "2. Напишите функцию, которая для ячейки $(i,j)$ расчитывает изменение её энергии, если изменить её знак. При этом для простоты предполагаем, во-первых, что $J=1$ (на него отнормируем kT), и во-вторых, что элементы находящиеся на верхней и нижней (левой и правой) границах находятся рядом друг с другом (топология тора).  \n"
   ]
  },
  {
   "cell_type": "markdown",
   "metadata": {},
   "source": [
    "очевидно, что новая энергия это просто минус старая  \n",
    "Ну мне лень разбираться как там должно быть на границах, поэтому давайте у нас будут периодические граничные условия"
   ]
  },
  {
   "cell_type": "code",
   "execution_count": 70,
   "metadata": {},
   "outputs": [],
   "source": [
    "def getDeltaE(i, j, state):\n",
    "    '''\n",
    "    Функция расчитывает и возвращает изменение энергии ячейки (i,j) в случае ее переворота (не меняя состояния state)\n",
    "    \n",
    "    ---------\n",
    "    Аргументы:\n",
    "    i - int, адресс ячейки вдоль оси 0\n",
    "    j - int, адресс ячейки вдоль оси 1\n",
    "    state - numpy ndarray of ints, массив состояния системы размера NxN\n",
    "    --------\n",
    "    Функция возвращает:\n",
    "    dE - float, изменение энергии\n",
    "    '''\n",
    "    N = len(state)\n",
    "    old = -state[i, j] * (state[i, (j + 1) % N] + state[i, j - 1] + state[(i + 1) % N, j] + state[i - 1, j])\n",
    "    return -2 * old"
   ]
  },
  {
   "cell_type": "markdown",
   "metadata": {},
   "source": [
    "3. Напишите функцию, которая $N^2$ раз для разных случайных $(i,j)$ меняет спин в зависимости от изменения энергии, согласно пунктам 4. и 5. "
   ]
  },
  {
   "cell_type": "code",
   "execution_count": 71,
   "metadata": {},
   "outputs": [],
   "source": [
    "def makeFlip(T, state):\n",
    "    '''\n",
    "    Функция N^2 раз переворачивает спин, и принимает решение оставить его перевернутым или нет, согласно правилам 4. и 5.\n",
    "    \n",
    "    ---------\n",
    "    Аргументы:\n",
    "    T - float, положительное число, безразмерный коэфициент, характеризующий температуру, равный kT/J\n",
    "    state - numpy ndarray of ints, массив состояния системы размера NxN\n",
    "    --------\n",
    "    Функция возвращает:\n",
    "    state - numpy ndarray of ints, массив нового состояния системы размера NxN\n",
    "    '''\n",
    "    N = len(state)\n",
    "    for i in range(N ** 2):\n",
    "        rand = np.random.randint(N, size = 2)\n",
    "        i = rand[0]\n",
    "        j = rand[1]\n",
    "        delt = getDeltaE(i, j, state)\n",
    "        if delt < 0:\n",
    "            state[i, j] = -state[i, j]\n",
    "        else:\n",
    "            probability = np.exp(-delt / T)\n",
    "            rand = np.random.rand(1)\n",
    "            if rand < probability:\n",
    "                state[i, j] = -state[i, j]\n",
    "    return state"
   ]
  },
  {
   "cell_type": "markdown",
   "metadata": {},
   "source": [
    "4. Напишите функцию, которая будет рассчитывать значение энергии всей системы (предполагаем $J=1$)."
   ]
  },
  {
   "cell_type": "code",
   "execution_count": 72,
   "metadata": {},
   "outputs": [],
   "source": [
    "def getEnergy(state):\n",
    "    '''\n",
    "    Функция, рассчитывает значение энергии всей системы\n",
    "    ---------\n",
    "    Аргументы:\n",
    "    state - numpy ndarray of ints, массив состояния системы размера NxN\n",
    "    --------\n",
    "    Функция возвращает:\n",
    "    E - float, значение энергии системы\n",
    "    '''\n",
    "\n",
    "    shift = np.roll(state, -1, axis = 1) + np.roll(state, 1, axis = 1) + \\\n",
    "             + np.roll(state, -1, axis = 0) + np.roll(state, 1, axis = 0)\n",
    "    s = np.sum(state * shift)\n",
    "    s = -s\n",
    "    return s"
   ]
  },
  {
   "cell_type": "markdown",
   "metadata": {},
   "source": [
    "5. Напишите функцию, которая будет рассчитывать значение намагниченности всей системы $M=\\sum \\sigma$"
   ]
  },
  {
   "cell_type": "code",
   "execution_count": 73,
   "metadata": {},
   "outputs": [],
   "source": [
    "def getMagnetization(state):    \n",
    "    '''\n",
    "    Функция, рассчитывает значение намагниченности всей системы\n",
    "    ---------\n",
    "    Аргументы:\n",
    "    state - numpy ndarray of ints, массив состояния системы размера NxN\n",
    "    --------\n",
    "    Функция возвращает:\n",
    "    M - float, значение намагниченности системы\n",
    "    '''\n",
    "    \n",
    "    s = np.sum(state)\n",
    "    \n",
    "    return s"
   ]
  },
  {
   "cell_type": "markdown",
   "metadata": {},
   "source": [
    "В следующей ячейке кода зададим начальные параметры: \n",
    "\n",
    "**Nt** - количество точек по температуре, \n",
    "\n",
    "**N** - линейный размер решетки, \n",
    "\n",
    "**eqStep** - количество попыток переворота спина, в течение которых система приводится к равновесному сосотоянию. Обратите внимание, что это число должно увеличиваться пропорционально размеру всей сетки,\n",
    "\n",
    "**steps** - количество попыток переворота спина, в течение которых рассчитывается значения энергии и намагниченности (нужно для усреднения расчитанных значений по ансамблю состояний, близких к равновесному)"
   ]
  },
  {
   "cell_type": "code",
   "execution_count": 74,
   "metadata": {},
   "outputs": [],
   "source": [
    "N       = 10         # размер решетки NxN\n",
    "Nt      = 10         # количество точек температуры\n",
    "eqSteps = 150        # количество раз выполнения makeFlip для установления равновесия\n",
    "steps   = 30         # количество раз выполнения makeFlip для усреднения энергии и намагниченности\n",
    "\n",
    "T = np.linspace(0.5, 5, Nt); \n",
    "E, M = np.zeros(Nt), np.zeros(Nt)"
   ]
  },
  {
   "cell_type": "code",
   "execution_count": 75,
   "metadata": {},
   "outputs": [
    {
     "name": "stdout",
     "output_type": "stream",
     "text": [
      "Done              \r"
     ]
    },
    {
     "data": {
      "image/png": "[encoded data removed]",
      "text/plain": [
       "<Figure size 720x360 with 2 Axes>"
      ]
     },
     "metadata": {
      "needs_background": "light"
     },
     "output_type": "display_data"
    }
   ],
   "source": [
    "for t in range(Nt):\n",
    "    print(\"Complete\", t/Nt*100, '%\\r', end='')\n",
    "    \n",
    "    Esum = Msum = 0\n",
    "    state = getInitialState(N)\n",
    "    \n",
    "    for i in range(eqSteps):         # установление статистического равновесия\n",
    "        state = makeFlip(T[t], state)          \n",
    "\n",
    "    for i in range(steps):           # суммирование по разным состояниям близким к равновеснсому\n",
    "        makeFlip(T[t], state)          \n",
    "        Esum += getEnergy(state)       \n",
    "        Msum += getMagnetization(state) \n",
    "\n",
    "    E[t] = Esum / (steps * N * N)\n",
    "    M[t] = Msum / (steps * N * N)\n",
    "\n",
    "print(\"Done              \\r\", end='')\n",
    "\n",
    "_, ax = plt.subplots(1,2,figsize=(10, 5));\n",
    "\n",
    "ax[0].scatter(T, E)\n",
    "ax[0].set_xlabel(\"Temperature\");\n",
    "ax[0].set_ylabel(\"Energy \");\n",
    "\n",
    "ax[1].scatter(T, abs(M), color = 'blue')\n",
    "ax[1].set_xlabel(\"Temperature\"); \n",
    "ax[1].set_ylabel(\"Magnetization \");"
   ]
  },
  {
   "cell_type": "markdown",
   "metadata": {},
   "source": [
    "Интерпретируйте с точки зрения физики полученные графики. Описывают ли они поведение ферромагнетиков и фазовые переходы?"
   ]
  },
  {
   "cell_type": "markdown",
   "metadata": {},
   "source": [
    "Видно что для графика E(T) заметен характерный рост, что физически обосновано при росте температуры. Касательно намагниченности можно сказать, что при увеличении температуры растет и энтропия которая в свою очередь описывает хаотичность системы, а именно хаотичное направление спинов, из за чего и происходит размагничивание тела, что как раз мы и видим на графике M(T)# ТУТ НАДО ЧТО ТО НАПИСАТЬ"
   ]
  },
  {
   "cell_type": "markdown",
   "metadata": {},
   "source": [
    "Задайте новое сосотояние системы с достаточно большим $N$ и визуализируйте его думя цветами (например с помощью `plt.scatter`). Примените несколько раз к этому сосотоянию функциию makeFlip с низкой и с высокой температурами. Объясните наблюдаемое"
   ]
  },
  {
   "cell_type": "code",
   "execution_count": 85,
   "metadata": {},
   "outputs": [],
   "source": [
    "N = 100\n",
    "state = getInitialState(N)"
   ]
  },
  {
   "cell_type": "code",
   "execution_count": 86,
   "metadata": {},
   "outputs": [],
   "source": [
    "def show(t, state):\n",
    "    for i in range(150):        \n",
    "        state = makeFlip(t, state)\n",
    "    fig, ax = plt.subplots(figsize = (10, 10))\n",
    "    ax.imshow(state)"
   ]
  },
  {
   "cell_type": "code",
   "execution_count": 87,
   "metadata": {},
   "outputs": [
    {
     "data": {
      "image/png": "[encoded data removed]",
      "text/plain": [
       "<Figure size 720x720 with 1 Axes>"
      ]
     },
     "metadata": {
      "needs_background": "light"
     },
     "output_type": "display_data"
    }
   ],
   "source": [
    "show(0.5, state)"
   ]
  },
  {
   "cell_type": "code",
   "execution_count": 88,
   "metadata": {},
   "outputs": [
    {
     "data": {
      "image/png": "[encoded data removed]",
      "text/plain": [
       "<Figure size 720x720 with 1 Axes>"
      ]
     },
     "metadata": {
      "needs_background": "light"
     },
     "output_type": "display_data"
    }
   ],
   "source": [
    "show(5, state)"
   ]
  },
  {
   "cell_type": "code",
   "execution_count": 89,
   "metadata": {},
   "outputs": [
    {
     "data": {
      "image/png": "[encoded data removed]",
      "text/plain": [
       "<Figure size 720x720 with 1 Axes>"
      ]
     },
     "metadata": {
      "needs_background": "light"
     },
     "output_type": "display_data"
    }
   ],
   "source": [
    "show(10, state)"
   ]
  },
  {
   "cell_type": "markdown",
   "metadata": {},
   "source": [
    "Можем заметить что когда температура стремится к 0, спины расположены менее хаотично, т.е. наблюдаются целые области в которых спиы с одинаковым направлением. В то же время, когда температура повышается наблюдается размагничивание, тут уже участки с противоположными спиновыми моментами \"Гасят\" друг друга."
   ]
  },
  {
   "cell_type": "code",
   "execution_count": null,
   "metadata": {},
   "outputs": [],
   "source": []
  }
 ],
 "metadata": {
  "kernelspec": {
   "display_name": "Python 3",
   "language": "python",
   "name": "python3"
  },
  "language_info": {
   "codemirror_mode": {
    "name": "ipython",
    "version": 3
   },
   "file_extension": ".py",
   "mimetype": "text/x-python",
   "name": "python",
   "nbconvert_exporter": "python",
   "pygments_lexer": "ipython3",
   "version": "3.6.10"
  }
 },
 "nbformat": 4,
 "nbformat_minor": 4
}
