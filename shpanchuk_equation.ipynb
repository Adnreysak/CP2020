{
 "cells": [
  {
   "cell_type": "markdown",
   "metadata": {},
   "source": [
    "## Solve a quadratic equation, $x^2 + b x + c = 0$.\n",
    "\n",
    "\n",
    "Write a function which receives $b$ and $c$, the coefficients of a monic quadratic polynomial, $x^2 + b x + c$, and returns the pair of its roots. Your function should always return two values, even if quadratic has a double root.\n",
    "\n",
    "For example, given a quadratic $x^2 - 2x + 1$, your function should return a pair of $(1, 1)$. Of course, in floating point, your answers may differ from an exact unity.\n",
    "\n",
    "Your function also must correctly handle complex roots (to this end, you might need the `cmath` module from the standard library)."
   ]
  },
  {
   "cell_type": "code",
   "execution_count": 16,
   "metadata": {},
   "outputs": [],
   "source": [
    "def solve_quad(b, c):\n",
    "    import cmath\n",
    "    if b**2 - 4 * c != b**2 or c == 0:\n",
    "        x1 = 1/2 * (-b + cmath.sqrt(b**2 - 4 * c))\n",
    "        x2 = 1/2 * (-b - cmath.sqrt(b**2 - 4 * c))\n",
    "    if b**2 - 4 * c == b**2 and c != 0:\n",
    "        x1 = -1 * c / b\n",
    "        x2 = -1 * (b - c / b)\n",
    "    return x1, x2 \n"
   ]
  },
  {
   "cell_type": "markdown",
   "metadata": {},
   "source": [
    "Экстремальное условие $b^2 \\gg 4c$ $(a = 1)$ в машинной арифметике можно интерпретировать как $b^2 - 4c = b^2$, то есть когда уже не хватает точности отличить друг от друга два больших числа $b^2 - 4c$ и $b^2$. Это и используется в функции выше. Чтобы избежать потери точности, можно разложить корень в ряд Тейлора:\n",
    "\n",
    "$$x_{1,2} = \\frac{-b \\pm b\\sqrt{1 - \\frac{4c}{b^2}}}{2} \\approx \\frac{-b \\pm b}{2} \\mp \\frac{c}{b}$$."
   ]
  },
  {
   "cell_type": "code",
   "execution_count": 17,
   "metadata": {},
   "outputs": [],
   "source": [
    "from numpy import allclose"
   ]
  },
  {
   "cell_type": "code",
   "execution_count": 18,
   "metadata": {},
   "outputs": [],
   "source": [
    "variants = [{'b': 4.0, 'c': 3.0},\n",
    "            {'b': 2.0, 'c': 1.0},\n",
    "            {'b': 0.5, 'c': 4.0},\n",
    "            {'b': 1e10, 'c': 3.0},\n",
    "            {'b': -1e10, 'c': 4.0},]"
   ]
  },
  {
   "cell_type": "code",
   "execution_count": 21,
   "metadata": {},
   "outputs": [
    {
     "name": "stdout",
     "output_type": "stream",
     "text": [
      "True\n",
      "True\n",
      "True\n",
      "True\n",
      "True\n",
      "(1j, -1j)\n"
     ]
    }
   ],
   "source": [
    "for var in variants:\n",
    "    x1, x2 = solve_quad(**var)\n",
    "    print(allclose(x1*x2, var['c']))\n",
    "print(solve_quad(0, 1))"
   ]
  },
  {
   "cell_type": "code",
   "execution_count": null,
   "metadata": {},
   "outputs": [],
   "source": []
  }
 ],
 "metadata": {
  "kernelspec": {
   "display_name": "Python 3",
   "language": "python",
   "name": "python3"
  },
  "language_info": {
   "codemirror_mode": {
    "name": "ipython",
    "version": 3
   },
   "file_extension": ".py",
   "mimetype": "text/x-python",
   "name": "python",
   "nbconvert_exporter": "python",
   "pygments_lexer": "ipython3",
   "version": "3.7.0"
  }
 },
 "nbformat": 4,
 "nbformat_minor": 2
}
