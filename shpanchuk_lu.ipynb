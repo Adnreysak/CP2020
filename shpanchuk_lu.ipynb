{
 "cells": [
  {
   "cell_type": "code",
   "execution_count": 6,
   "metadata": {},
   "outputs": [
    {
     "data": {
      "text/plain": [
       "6"
      ]
     },
     "execution_count": 6,
     "metadata": {},
     "output_type": "execute_result"
    }
   ],
   "source": [
    "import numpy.linalg\n",
    "import numpy as np\n",
    "\n",
    "N = 6\n",
    "a = np.zeros((N, N), dtype=float)\n",
    "for i in range(N):\n",
    "    for j in range(N):\n",
    "        a[i, j] = 3. / (0.6*i*j + 1)\n",
    "np.linalg.matrix_rank(a)"
   ]
  },
  {
   "cell_type": "code",
   "execution_count": 7,
   "metadata": {},
   "outputs": [],
   "source": [
    "a1 = a.copy()\n",
    "a1[1, 1] = 3"
   ]
  },
  {
   "cell_type": "code",
   "execution_count": 8,
   "metadata": {},
   "outputs": [
    {
     "name": "stdout",
     "output_type": "stream",
     "text": [
      "[3.0000000000000004, -3.375, -0.8859990277102598, 0.019467001032005795, 1.5728974209748546e-05, -2.4923994636580374e-10] \n",
      "\n",
      "[3.0000000000000004, 0.0, -8.03305785123967, -0.4935101061624751, 0.0009030145201488282, 2.3183841673928285e-08] \n",
      "\n"
     ]
    }
   ],
   "source": [
    "min1 = []\n",
    "min2 = []\n",
    "\n",
    "for i in range(a.shape[0]):\n",
    "    min1_i = numpy.linalg.det(a[:i+1, :i+1])\n",
    "    min2_i = numpy.linalg.det(a1[:i+1, :i+1])\n",
    "    min1.append(min1_i)\n",
    "    min2.append(min2_i)\n",
    "print(min1, \"\\n\")\n",
    "print(min2, \"\\n\")"
   ]
  },
  {
   "cell_type": "code",
   "execution_count": 10,
   "metadata": {},
   "outputs": [],
   "source": [
    "def diy_lu_modify(a):\n",
    "    N = a.shape[0]\n",
    "    \n",
    "    u = a.copy()\n",
    "    L = np.eye(N)\n",
    "    Permutation_matrix = np.eye(N)\n",
    "    for j in range(N-1):\n",
    "        lam = np.eye(N)\n",
    "        row_max_index = np.where(np.abs(u[j:, j]) == np.max(np.abs(u[j:, j])))[0][0]\n",
    "        p_j = np.eye(N)\n",
    "        if row_max_index != 0:\n",
    "            p_j[j+row_max_index, j] = 1\n",
    "            p_j[j, j+row_max_index] = 1\n",
    "            p_j[j, j] = 0\n",
    "            p_j[j+row_max_index, j+row_max_index] = 0\n",
    "        Permutation_matrix = p_j @ Permutation_matrix\n",
    "        u = p_j @ u\n",
    "        gamma = u[j+1:, j] / u[j, j]\n",
    "        lam[j+1:, j] = -gamma\n",
    "        u = lam @ u\n",
    "        lam[j+1:, j] = gamma\n",
    "        L = L @ numpy.linalg.inv(p_j) @ lam\n",
    "    L = Permutation_matrix @ L\n",
    "    return Permutation_matrix, L, u"
   ]
  },
  {
   "cell_type": "code",
   "execution_count": 11,
   "metadata": {},
   "outputs": [
    {
     "name": "stdout",
     "output_type": "stream",
     "text": [
      "[[1.         0.         0.         0.         0.         0.        ]\n",
      " [1.         1.         0.         0.         0.         0.        ]\n",
      " [1.         0.         1.         0.         0.         0.        ]\n",
      " [1.         0.72727273 0.1512605  1.         0.         0.        ]\n",
      " [1.         0.85714286 0.08784383 0.51421669 1.         0.        ]\n",
      " [1.         0.94117647 0.03824978 0.2076544  0.64143198 1.        ]] \n",
      "\n",
      "[[ 3.00000000e+00  3.00000000e+00  3.00000000e+00  3.00000000e+00\n",
      "   3.00000000e+00  3.00000000e+00]\n",
      " [ 0.00000000e+00 -2.25000000e+00 -2.57142857e+00 -2.70000000e+00\n",
      "  -2.76923077e+00 -2.81250000e+00]\n",
      " [ 0.00000000e+00  0.00000000e+00 -1.63636364e+00 -1.92857143e+00\n",
      "  -2.11764706e+00 -2.25000000e+00]\n",
      " [ 0.00000000e+00  0.00000000e+00  2.77555756e-17 -9.24730366e-02\n",
      "  -1.48456245e-01 -1.85637892e-01]\n",
      " [ 0.00000000e+00  2.22044605e-16 -1.42723802e-17  0.00000000e+00\n",
      "   1.84094605e-03  3.82101258e-03]\n",
      " [ 0.00000000e+00 -1.42426510e-16  3.39119367e-18  0.00000000e+00\n",
      "   0.00000000e+00 -1.23295047e-05]] \n",
      "\n"
     ]
    }
   ],
   "source": [
    "P, L, u = diy_lu_modify(a1)\n",
    "\n",
    "print(L, \"\\n\")\n",
    "print(u, \"\\n\")"
   ]
  },
  {
   "cell_type": "code",
   "execution_count": 12,
   "metadata": {},
   "outputs": [],
   "source": [
    "def reconstruct(Permutation_matrix, L, u):\n",
    "    a = numpy.linalg.inv(Permutation_matrix) @ L @ u\n",
    "    return a"
   ]
  },
  {
   "cell_type": "code",
   "execution_count": 13,
   "metadata": {},
   "outputs": [
    {
     "name": "stdout",
     "output_type": "stream",
     "text": [
      "[[ 0.00000000e+00  0.00000000e+00  0.00000000e+00  0.00000000e+00\n",
      "   0.00000000e+00  0.00000000e+00]\n",
      " [ 0.00000000e+00  0.00000000e+00  0.00000000e+00  0.00000000e+00\n",
      "   0.00000000e+00  0.00000000e+00]\n",
      " [ 0.00000000e+00  0.00000000e+00  0.00000000e+00  2.22044605e-16\n",
      "   1.11022302e-16 -2.77555756e-16]\n",
      " [ 0.00000000e+00  0.00000000e+00  1.11022302e-16 -1.66533454e-16\n",
      "  -2.77555756e-16 -5.55111512e-17]\n",
      " [ 0.00000000e+00  0.00000000e+00  0.00000000e+00  0.00000000e+00\n",
      "   3.33066907e-16 -2.77555756e-17]\n",
      " [ 0.00000000e+00  0.00000000e+00 -1.66533454e-16 -1.66533454e-16\n",
      "   5.55111512e-17  0.00000000e+00]] \n",
      "\n",
      "[[ 0.00000000e+00  0.00000000e+00  0.00000000e+00  0.00000000e+00\n",
      "   0.00000000e+00  0.00000000e+00]\n",
      " [ 0.00000000e+00  0.00000000e+00  0.00000000e+00  0.00000000e+00\n",
      "   0.00000000e+00  0.00000000e+00]\n",
      " [ 0.00000000e+00  0.00000000e+00  0.00000000e+00  2.22044605e-16\n",
      "   1.11022302e-16 -2.77555756e-16]\n",
      " [ 0.00000000e+00  0.00000000e+00  1.11022302e-16 -1.66533454e-16\n",
      "  -2.77555756e-16 -5.55111512e-17]\n",
      " [ 0.00000000e+00  0.00000000e+00  0.00000000e+00  0.00000000e+00\n",
      "   3.33066907e-16  0.00000000e+00]\n",
      " [ 0.00000000e+00  0.00000000e+00 -1.66533454e-16 -1.66533454e-16\n",
      "   5.55111512e-17  0.00000000e+00]]\n"
     ]
    }
   ],
   "source": [
    "a1_test = reconstruct(P, L, u)\n",
    "print(a1_test - a1, \"\\n\")\n",
    "\n",
    "P, L, u = diy_lu_modify(a)\n",
    "a_test = reconstruct(P, L, u)\n",
    "print(a_test - a)"
   ]
  },
  {
   "cell_type": "code",
   "execution_count": null,
   "metadata": {},
   "outputs": [],
   "source": []
  }
 ],
 "metadata": {
  "kernelspec": {
   "display_name": "Python 3",
   "language": "python",
   "name": "python3"
  },
  "language_info": {
   "codemirror_mode": {
    "name": "ipython",
    "version": 3
   },
   "file_extension": ".py",
   "mimetype": "text/x-python",
   "name": "python",
   "nbconvert_exporter": "python",
   "pygments_lexer": "ipython3",
   "version": "3.7.0"
  }
 },
 "nbformat": 4,
 "nbformat_minor": 2
}
