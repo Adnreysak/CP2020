{
 "cells": [
  {
   "cell_type": "markdown",
   "metadata": {},
   "source": [
    "# Part I. One-sided finite differences"
   ]
  },
  {
   "cell_type": "markdown",
   "metadata": {},
   "source": [
    "Write a function, `deriv`, which computes a derivative of its argument at a given point, $x$, using a one-sided finite difference rule with a given step side $h$, with the approximation order of $O(h^2)$. "
   ]
  },
  {
   "cell_type": "code",
   "execution_count": 2,
   "metadata": {},
   "outputs": [],
   "source": [
    "def deriv(f, x, h):\n",
    "    \"\"\" Compute a derivative of `f` at point `x` with step size `h`.\n",
    "    \n",
    "    Compute the derivative using the one-sided rule of the approximation order of $O(h^2)$.\n",
    "    \n",
    "    Parameters\n",
    "    ----------\n",
    "    f : callable\n",
    "        The function to differentiate\n",
    "    x : float\n",
    "        The point to compute the derivative at.\n",
    "    h : float\n",
    "        The step size for the finite different rule.\n",
    "        \n",
    "    Returns\n",
    "    -------\n",
    "    fder : derivative of f(x) at point x using the step size h.\n",
    "    \"\"\"\n",
    "    return (- 3 * f(x) + 4 * f(x+h) - f(x + 2 * h)) / (2 * h)"
   ]
  },
  {
   "cell_type": "markdown",
   "metadata": {},
   "source": [
    "#### Test I.1\n",
    "\n",
    "Test your function on a simple test case: differentiate $f(x) = x^3$ at $x=0$. Comment on whether your results are consistent with the expected value of $f'(x) = 0$ and on an expected scaling with $h\\to 0$.\n",
    "\n",
    " (10% of the total grade)"
   ]
  },
  {
   "cell_type": "code",
   "execution_count": 3,
   "metadata": {},
   "outputs": [
    {
     "name": "stdout",
     "output_type": "stream",
     "text": [
      "0.010000 -- -0.0002\n",
      "0.001000 --  -2e-06\n",
      "0.000100 --  -2e-08\n",
      "0.000010 --  -2e-10\n"
     ]
    }
   ],
   "source": [
    "x = 0\n",
    "for h in [1e-2, 1e-3, 1e-4, 1e-5]:\n",
    "    err = deriv(lambda x: x**3, x, h)\n",
    "    print(\"%5f -- %7.4g\" % (h, err))"
   ]
  },
  {
   "cell_type": "markdown",
   "metadata": {},
   "source": [
    "Как мы видим, отколнение пропорционально квадрату шага: погрешность $\\sim o(h^2)$"
   ]
  },
  {
   "cell_type": "markdown",
   "metadata": {},
   "source": [
    "### Test I.2\n",
    "\n",
    "Now use a slightly more complicated function, $f(x) = x^2 \\log{x}$, evaluate the derivative at $x=1$ using your one-sided rule and a two-point one-sided rule. Roughly estimate the value of $h$ where the error stops decreasing, for these two schemes. \n",
    "(15% of the total grade)"
   ]
  },
  {
   "cell_type": "code",
   "execution_count": 4,
   "metadata": {},
   "outputs": [],
   "source": [
    "from math import log, sin, exp, sqrt\n",
    "\n",
    "def f(x):\n",
    "    return x**2 * log(x)\n",
    "    \n",
    "def fder(x):\n",
    "    return x * (2.*log(x) + 1)\n",
    "\n",
    "def der2p(f, x, h):\n",
    "    return (f(x+h) - f(x)) / h"
   ]
  },
  {
   "cell_type": "code",
   "execution_count": 5,
   "metadata": {},
   "outputs": [
    {
     "name": "stdout",
     "output_type": "stream",
     "text": [
      "-6.661673548347125e-07\n",
      "-6.661673548347125e-07\n"
     ]
    }
   ],
   "source": [
    "eps = 1e-5\n",
    "err = 1\n",
    "h = 1e-1\n",
    "x = 1\n",
    "\n",
    "while abs(err) > eps:\n",
    "    err = deriv(f, x, h) - fder(x)\n",
    "    h *= 0.1\n",
    "    \n",
    "print(err)\n",
    "h = 1e-1\n",
    "\n",
    "while abs(err) > eps:\n",
    "    err = der2p(f, x, h) - fder(x)\n",
    "    h *= 0.1\n",
    "    \n",
    "print(err)"
   ]
  },
  {
   "cell_type": "markdown",
   "metadata": {},
   "source": [
    "### Test I.3 \n",
    "\n",
    "Now try differentiating $x^2 \\log(x)$ at $x=0$. Use the three-point one-sided rule. Note that to evaluate the function at zero, you need to special-case this value. Check the scaling of the error with $h$, explain your results. \n",
    "(25% of the total grade)"
   ]
  },
  {
   "cell_type": "code",
   "execution_count": 6,
   "metadata": {},
   "outputs": [
    {
     "name": "stdout",
     "output_type": "stream",
     "text": [
      "for x = 0:\n",
      "\n",
      "0.010000 -- -0.01386\n",
      "err scale: 1\n",
      "0.001000 -- -0.001386\n",
      "err scale: 1\n",
      "0.000100 -- -0.0001386\n",
      "err scale: 1\n",
      "0.000010 -- -1.386e-05\n",
      "err scale: 1\n",
      "\n",
      "\n",
      " for x = 1:\n",
      "\n",
      "0.010000 -- -6.617e-05\n",
      "err scale: 2\n",
      "0.001000 -- -6.662e-07\n",
      "err scale: 2\n",
      "0.000100 -- -6.666e-09\n",
      "err scale: 2\n",
      "0.000010 -- -4.901e-11\n",
      "err scale: 2\n"
     ]
    }
   ],
   "source": [
    "def f(x):\n",
    "    if x == 0:\n",
    "        # the limit of $x^2 log(x)$ at $x-> 0$ is zero, even though log(x) is undefined at x=0\n",
    "        return 0.0\n",
    "    else:\n",
    "        return x**2 * log(x)\n",
    "    \n",
    "def fder(x):\n",
    "    if x == 0:\n",
    "        return 0.0\n",
    "    else:\n",
    "        return x*(2*log(x) + 1)\n",
    "print('for x = 0:\\n')\n",
    "x = 0\n",
    "for h in [1e-2, 1e-3, 1e-4, 1e-5]:\n",
    "    err = deriv(f, x, h) - fder(x)\n",
    "    print(\"%5f -- %7.4g\" % (h, err))\n",
    "    print('err scale: ' + str(round(log(abs(err))/log(h))))\n",
    "print('\\n\\n for x = 1:\\n')\n",
    "x = 1\n",
    "for h in [1e-2, 1e-3, 1e-4, 1e-5]:\n",
    "    err = deriv(f, x, h) - fder(x)\n",
    "    print(\"%5f -- %7.4g\" % (h, err))\n",
    "    print('err scale: ' + str(round(log(abs(err))/log(h))))\n",
    "    \n",
    "    "
   ]
  },
  {
   "cell_type": "markdown",
   "metadata": {},
   "source": [
    "Ошибка пропорциональна $h^1$ из-за особенности функции в нуле (функция определена только для $x > 0$). Если посчитать ошибку для $x > 0$, получится ожидаемое значение $\\text{err} = o(h^2)$"
   ]
  },
  {
   "cell_type": "markdown",
   "metadata": {},
   "source": [
    "# Part II. Midpoint rule "
   ]
  },
  {
   "cell_type": "markdown",
   "metadata": {},
   "source": [
    "Write a function which computes a definite integral using the midpoint rule up to a given error, $\\epsilon$. Estimate the error by comparing the estimates of the integral at $N$ and $2N$ elementary intervals. "
   ]
  },
  {
   "cell_type": "code",
   "execution_count": 7,
   "metadata": {},
   "outputs": [],
   "source": [
    "def midpoint_rule(func, a, b, eps):\n",
    "    \"\"\" Calculate the integral of f from a to b using the midpoint rule.\n",
    "    \n",
    "    Parameters\n",
    "    ----------\n",
    "    func : callable\n",
    "        The function to integrate.\n",
    "    a : float\n",
    "        The lower limit of integration.\n",
    "    b : float\n",
    "        The upper limit of integration.\n",
    "    eps : float\n",
    "        The target accuracy of the estimate.\n",
    "        \n",
    "    Returns\n",
    "    -------\n",
    "    integral : float\n",
    "        The estimate of $\\int_a^b f(x) dx$.\n",
    "    \"\"\"\n",
    "    n = 10\n",
    "    intprev = 1000\n",
    "    err = 2 * eps\n",
    "    \n",
    "    while abs(err) > eps:\n",
    "        x = a\n",
    "        d = (b - a) / n\n",
    "        sum = 0\n",
    "        \n",
    "        for i in range(n):\n",
    "            xmiddle = x + d/2\n",
    "            sum += func(xmiddle)\n",
    "            x += d\n",
    "        int = sum * d\n",
    "        err = int - intprev\n",
    "        intprev = int\n",
    "        n += 1\n",
    "        \n",
    "    return(int, n)"
   ]
  },
  {
   "cell_type": "markdown",
   "metadata": {},
   "source": [
    "### Test II.1\n",
    "\n",
    "Test your midpoint rule on a simple integral, which you can calculate by paper and pencil.\n",
    "\n",
    "Compare the rate of convergence to the expected $O(N^{-2})$ scaling by studying the number of intervals required for a given accuracy $\\epsilon$.\n",
    "\n",
    "Compare the numerical results to the value you calculated by hand. Does the deviation agree with your estimate of the numerical error?\n",
    "(20% of the total grade)\n"
   ]
  },
  {
   "cell_type": "code",
   "execution_count": 70,
   "metadata": {},
   "outputs": [
    {
     "name": "stdout",
     "output_type": "stream",
     "text": [
      "eps: 1e-1; err scale:0.7\n",
      "eps: 1e-2; err scale:0.7\n",
      "eps: 1e-3; err scale:0.7\n",
      "eps: 1e-4; err scale:0.69\n",
      "eps: 1e-5; err scale:0.69\n",
      "eps: 1e-6; err scale:0.69\n",
      "eps: 1e-7; err scale:0.69\n",
      "eps: 1e-8; err scale:0.69\n",
      "eps: 1e-9; err scale:0.69\n",
      "eps: 1e-10; err scale:0.69\n"
     ]
    },
    {
     "data": {
      "image/png": "[encoded data removed]",
      "text/plain": [
       "<matplotlib.figure.Figure at 0x21b668ff080>"
      ]
     },
     "metadata": {},
     "output_type": "display_data"
    }
   ],
   "source": [
    "import matplotlib.pyplot as plt\n",
    "\n",
    "\n",
    "\n",
    "def f(x):\n",
    "    return x * exp(-x**2)\n",
    "\n",
    "def fint(x):\n",
    "    return - exp(-x**2)/2\n",
    "\n",
    "\n",
    "\n",
    "a = -1\n",
    "b = 10\n",
    "\n",
    "eps_array = []\n",
    "N_array = []\n",
    "\n",
    "for i in range(10):\n",
    "    eps = 10**(-4) * 0.7**(i+1)\n",
    "    mp = midpoint_rule(f, a, b, eps)\n",
    "    err = mp[0] - (fint(b) - fint(a))\n",
    "    print('eps: 1e-' + str(i+1) + '; err scale:' + str(round(log(abs(err))/log(eps),2)))\n",
    "    \n",
    "    eps_array.append(eps)\n",
    "    N_array.append(mp[1])\n",
    "\n",
    "\n",
    "plt.plot(eps_array, N_array)\n",
    "plt.show()"
   ]
  },
  {
   "cell_type": "markdown",
   "metadata": {},
   "source": [
    "Правда похоже на $\\sim eps^{-2}$. Я пытался аппроксимировать эту кривую функцией $a * (x - x_0)^{-2} + b$, но не получилось..."
   ]
  },
  {
   "cell_type": "markdown",
   "metadata": {},
   "source": [
    "### Test II.2\n",
    "\n",
    "Now use your midpoint rule to compute the value of\n",
    "\n",
    "$$\n",
    "\\int_0^1\\! \\frac{\\sin{\\sqrt{x}}}{x}\\, dx\n",
    "$$\n",
    "\n",
    "up to a predefined accuracy of $\\epsilon=10^{-4}$.\n",
    "\n",
    "Note that the integral contains an integrable singularity at the lower limit. Do calculations two ways: first, do a straightforward computation; next, subtract the singularity. Compare the number of iterations required to achieve the accuracy of $\\epsilon$.\n",
    "\n",
    "(30% of the total grade)"
   ]
  },
  {
   "cell_type": "code",
   "execution_count": 71,
   "metadata": {},
   "outputs": [
    {
     "name": "stdout",
     "output_type": "stream",
     "text": [
      "int: 1.850421373986771; iter: 211\n"
     ]
    }
   ],
   "source": [
    "def sint(x):\n",
    "    return sin(sqrt(x))/x\n",
    "\n",
    "a = 0\n",
    "b = 1\n",
    "eps = 1e-4\n",
    "\n",
    "print('int: ' + str(midpoint_rule(sint, a, b, eps)[0]) + '; iter: ' + str(midpoint_rule(sint, a, b, eps)[1]))"
   ]
  },
  {
   "cell_type": "code",
   "execution_count": 83,
   "metadata": {},
   "outputs": [
    {
     "name": "stdout",
     "output_type": "stream",
     "text": [
      "int: 1.8921479151991862; x_0: 0.054975581388800036; abs err: -1.82255351797167e-05\n"
     ]
    }
   ],
   "source": [
    "def sintapprox(x):\n",
    "    return 2 * sqrt(x)\n",
    "\n",
    "a = 0\n",
    "x0 = 1\n",
    "b = 1\n",
    "eps = 1e-4\n",
    "\n",
    "exact = 1.892166140734366\n",
    "res = 1000\n",
    "err = 1000\n",
    "for i in range(100):\n",
    "    x0 *= 0.8\n",
    "    newres = sintapprox(x0) - sintapprox(a) + midpoint_rule(sint, x0, b, eps)[0]\n",
    "    newerr = newres - exact\n",
    "    if abs(newerr) < abs(err):\n",
    "        res = newres\n",
    "        err = newerr\n",
    "        x0res = x0\n",
    "print('int: ' + str(res) + '; x_0: ' + str(x0res) + '; abs err: ' + str(err))"
   ]
  },
  {
   "cell_type": "markdown",
   "metadata": {},
   "source": [
    "В данной части кода я разложил интегранд при малых $x$, затем ввёл \"обрезку\" -- ту длину, вплоть до которой такое разложение работает. Интегрируюя разложенный интегранд, мы как раз и получаем $2 \\sqrt{x}$:\n",
    "\n",
    "$\\displaystyle \\int_0^1 \\dfrac{\\sin{\\sqrt{x}}}{x} dx = \\int_0^{x_0} \\dfrac{1}{\\sqrt{x}} dx + \\int_{x_0}^{1} \\dfrac{\\sin{\\sqrt{x}}}{x} dx = 2 \\sqrt{x}\\ \\bigg|_{\\ 0}^{\\ x_0} + \\int_{x_0}^{1} \\dfrac{\\sin{\\sqrt{x}}}{x} dx$\n",
    "\n",
    "Но можно реализовать регуляризацию и другим образом -- через интегрирование по частям:\n",
    "\n",
    "$\\displaystyle \\int_{0}^{1} \\dfrac{\\sin \\sqrt{x}}{x} d x= \\int_{0}^{1} \\left( \\dfrac{\\sin \\sqrt{x}}{x} - \\dfrac{1}{\\sqrt{x}} \\right) dx + \\int_{0}^{1}  \\dfrac{1}{\\sqrt{x}} dx$"
   ]
  },
  {
   "cell_type": "code",
   "execution_count": 74,
   "metadata": {},
   "outputs": [
    {
     "name": "stdout",
     "output_type": "stream",
     "text": [
      "int: 1.8919128768112488; abs err: 0.00025326392311719736\n"
     ]
    }
   ],
   "source": [
    "def regulirized(x):\n",
    "    return sint(x)-np.sqrt(1/x)\n",
    "\n",
    "exact = 1.892166140734366\n",
    "\n",
    "int = midpoint_rule(regulirized, 0, 1, 1e-4)[0]+2\n",
    "err = abs(int - exact)\n",
    "\n",
    "print('int: ' + str(int) + '; abs err: ' + str(err))"
   ]
  },
  {
   "cell_type": "markdown",
   "metadata": {},
   "source": [
    "Тоже хороший метод)"
   ]
  },
  {
   "cell_type": "code",
   "execution_count": null,
   "metadata": {},
   "outputs": [],
   "source": []
  }
 ],
 "metadata": {
  "kernelspec": {
   "display_name": "Python 3",
   "language": "python",
   "name": "python3"
  },
  "language_info": {
   "codemirror_mode": {
    "name": "ipython",
    "version": 3
   },
   "file_extension": ".py",
   "mimetype": "text/x-python",
   "name": "python",
   "nbconvert_exporter": "python",
   "pygments_lexer": "ipython3",
   "version": "3.6.4"
  }
 },
 "nbformat": 4,
 "nbformat_minor": 2
}
